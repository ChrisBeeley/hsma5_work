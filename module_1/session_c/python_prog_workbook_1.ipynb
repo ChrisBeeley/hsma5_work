{
 "cells": [
  {
   "cell_type": "markdown",
   "metadata": {},
   "source": [
    "# Python Programming Workbook 1\n"
   ]
  },
  {
   "cell_type": "markdown",
   "metadata": {},
   "source": [
    "This workbook is intended to accompany Session 1C of the HSMA Training Programme - Python Programming Part 1.  You should be completing this when prompted by the trainer as Exercise 2 of the session.  You should read each task, and then try to write code to achieve what you are being asked in the code cell below each set of instructions.  Remember - check your code is working by running the code cell (CTRL + Enter whilst in the cell, or click the play button in the bar at the top)."
   ]
  },
  {
   "cell_type": "markdown",
   "metadata": {},
   "source": [
    "**Task 1**\n",
    "Write a simple calculator that asks the user to input two numbers, then adds them together and displays the result to the user."
   ]
  },
  {
   "cell_type": "code",
   "execution_count": 2,
   "metadata": {},
   "outputs": [
    {
     "data": {
      "text/plain": [
       "9"
      ]
     },
     "execution_count": 2,
     "metadata": {},
     "output_type": "execute_result"
    }
   ],
   "source": [
    "number1 = input(\"First number: \")\n",
    "number2 = input(\"Second number: \")\n",
    "\n",
    "int(number1) + int(number2)\n"
   ]
  },
  {
   "cell_type": "markdown",
   "metadata": {},
   "source": [
    "**Task 2** Write code that checks whether the output of the calculation above is 1,000,000 or more, and if so, displays a message to the user saying \"Wow - that's a big calculation!\".  If you haven't already, you'll need to make sure that the result of the calculation above is stored in a variable to do this."
   ]
  },
  {
   "cell_type": "code",
   "execution_count": 7,
   "metadata": {},
   "outputs": [
    {
     "name": "stdout",
     "output_type": "stream",
     "text": [
      "Wow, that's a big calculation\n"
     ]
    },
    {
     "data": {
      "text/plain": [
       "1000001"
      ]
     },
     "execution_count": 7,
     "metadata": {},
     "output_type": "execute_result"
    }
   ],
   "source": [
    "\n",
    "number1 = input(\"First number: \")\n",
    "number2 = input(\"Second number: \")\n",
    "\n",
    "test = int(number1) + int(number2)\n",
    "\n",
    "if(test > 1E6):\n",
    "    print(\"Wow, that's a big calculation\")\n",
    "\n",
    "test\n"
   ]
  },
  {
   "cell_type": "markdown",
   "metadata": {},
   "source": [
    "**Task 3** Write code that asks the user to input the length, width and height of a cuboid in cm.  If all three measurements are the same, the program identifies that the shape is a cube, notifies the user of this, and then calculates the volume by simply cubing one of the measurements, before displaying the volume to the user.  If all three measurements are not the same, then the program notifies the user that this is a cuboid, and calculates the volume of the cuboid, before displaying the volume to the user."
   ]
  },
  {
   "cell_type": "code",
   "execution_count": 11,
   "metadata": {},
   "outputs": [
    {
     "name": "stdout",
     "output_type": "stream",
     "text": [
      "This is a cuboid with volume 144\n"
     ]
    }
   ],
   "source": [
    "length = input(\"Length: \")\n",
    "width = input(\"Width: \")\n",
    "height = input(\"Height: \")\n",
    "\n",
    "if(length == width and height == length):\n",
    "    volume = int(length) **3\n",
    "    print(f\"This is a cube with volume {volume}\")\n",
    "else:\n",
    "    volume = int(length) * int(width) * int(height)\n",
    "    print(f\"This is a cuboid with volume {volume}\")\n"
   ]
  },
  {
   "cell_type": "markdown",
   "metadata": {},
   "source": [
    "**Task 4** **Note - this task is considered more challenging.  You will need to think carefully about how you would approach this problem using what you've been shown.  Read back through the notes carefully** Write a piece of code that asks the user to input a day number from 1 up to and including 365, and which, assuming that day 1 represents a Monday, prints out the day of the week corresponding to the day the user inputs.  For example, if the user were to input 16, the code should print out \"Tuesday\"."
   ]
  },
  {
   "cell_type": "code",
   "execution_count": 18,
   "metadata": {},
   "outputs": [
    {
     "name": "stdout",
     "output_type": "stream",
     "text": [
      "Day is Tuesday\n"
     ]
    }
   ],
   "source": [
    "\n",
    "days_of_week = [\"Sunday\", \"Monday\", \"Tuesday\", \"Wednesday\", \"Thursday\", \"Friday\", \"Saturday\"]\n",
    "\n",
    "day = input(\"Day: \")\n",
    "\n",
    "number_day = int(day) % 7\n",
    "\n",
    "word_day = days_of_week[number_day]\n",
    "\n",
    "print(f\"Day is {word_day}\")\n",
    "\n",
    "\n",
    "\n"
   ]
  }
 ],
 "metadata": {
  "kernelspec": {
   "display_name": "Python 3.10.6 ('hsma': venv)",
   "language": "python",
   "name": "python3"
  },
  "language_info": {
   "codemirror_mode": {
    "name": "ipython",
    "version": 3
   },
   "file_extension": ".py",
   "mimetype": "text/x-python",
   "name": "python",
   "nbconvert_exporter": "python",
   "pygments_lexer": "ipython3",
   "version": "3.10.6"
  },
  "vscode": {
   "interpreter": {
    "hash": "afc2fd942e91e348e581f713fd908a17168a9adf9247f0d0e56bfb7e63ee9091"
   }
  }
 },
 "nbformat": 4,
 "nbformat_minor": 4
}
